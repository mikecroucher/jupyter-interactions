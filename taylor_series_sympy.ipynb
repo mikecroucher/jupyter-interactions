{
 "cells": [
  {
   "cell_type": "markdown",
   "metadata": {},
   "source": [
    "# Taylor Series using sympy\n",
    "## Author: Mike Croucher\n",
    "This interaction demonstrates how to compute the [Taylor Series](https://en.wikipedia.org/wiki/Taylor_series) of $sin(x)$ using [sympy](http://www.sympy.org/en/index.html)."
   ]
  },
  {
   "cell_type": "code",
   "execution_count": 8,
   "metadata": {
    "collapsed": false
   },
   "outputs": [
    {
     "name": "stdout",
     "output_type": "stream",
     "text": [
      "x - x**3/6 + O(x**5)\n"
     ]
    }
   ],
   "source": [
    "from sympy import Symbol, sin, series, init_printing\n",
    "from ipywidgets import interact\n",
    "init_printing()\n",
    "x = Symbol('x')\n",
    "\n",
    "def expand_sin(num_terms=5):\n",
    "    print(series(sin(x),x,n=num_terms))\n",
    " \n",
    "\n",
    "interact(expand_sin,num_terms=(1,100));"
   ]
  },
  {
   "cell_type": "markdown",
   "metadata": {},
   "source": [
    "### References\n",
    "* [SymPy: symbolic computing in Python](https://peerj.com/articles/cs-103/)"
   ]
  }
 ],
 "metadata": {
  "anaconda-cloud": {},
  "kernelspec": {
   "display_name": "Python [default]",
   "language": "python",
   "name": "python3"
  },
  "language_info": {
   "codemirror_mode": {
    "name": "ipython",
    "version": 3
   },
   "file_extension": ".py",
   "mimetype": "text/x-python",
   "name": "python",
   "nbconvert_exporter": "python",
   "pygments_lexer": "ipython3",
   "version": "3.5.2"
  },
  "widgets": {
   "state": {
    "231c27494147441aaa6bd6f6eae30fe1": {
     "views": [
      {
       "cell_index": 1
      }
     ]
    }
   },
   "version": "1.2.0"
  }
 },
 "nbformat": 4,
 "nbformat_minor": 1
}
